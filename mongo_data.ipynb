{
  "nbformat": 4,
  "nbformat_minor": 2,
  "metadata": {
    "kernelspec": {
      "name": "synapse_pyspark",
      "display_name": "Synapse PySpark"
    },
    "language_info": {
      "name": "python"
    },
    "description": null,
    "save_output": true,
    "synapse_widget": {
      "version": "0.1",
      "state": {
        "90d8a14a-191b-4f4c-b1af-4e44ecc53078": {
          "type": "Synapse.DataFrame",
          "sync_state": {
            "table": {
              "rows": [
                {
                  "0": "HHQbALZHFpgBAAAAAAAAAA==",
                  "1": "1702529288",
                  "2": "NjU3YTg5MDdmZmMxYTJiZGE4MTFhYTEz",
                  "3": "\"0000f603-0000-0300-0000-657a89080000\"",
                  "4": {
                    "objectId": "ez�\u0007�����\u0011�\u0013"
                  },
                  "5": {
                    "string": "Brad Huff"
                  },
                  "6": {
                    "int32": 70
                  }
                },
                {
                  "0": "HHQbALZHFpgCAAAAAAAAAA==",
                  "1": "1702529288",
                  "2": "NjU3YTg5MDhmZmMxYTJiZGE4MTFhYTE0",
                  "3": "\"0000f703-0000-0300-0000-657a89080000\"",
                  "4": {
                    "objectId": "ez�\b�����\u0011�\u0014"
                  },
                  "5": {
                    "string": "Robert Johnson"
                  },
                  "6": {
                    "int32": 40
                  }
                },
                {
                  "0": "HHQbALZHFpgDAAAAAAAAAA==",
                  "1": "1702529288",
                  "2": "NjU3YTg5MDhmZmMxYTJiZGE4MTFhYTE1",
                  "3": "\"0000f803-0000-0300-0000-657a89080000\"",
                  "4": {
                    "objectId": "ez�\b�����\u0011�\u0015"
                  },
                  "5": {
                    "string": "Kathryn Adams"
                  },
                  "6": {
                    "int32": 49
                  }
                },
                {
                  "0": "HHQbALZHFpgEAAAAAAAAAA==",
                  "1": "1702529288",
                  "2": "NjU3YTg5MDhmZmMxYTJiZGE4MTFhYTE2",
                  "3": "\"0000f903-0000-0300-0000-657a89080000\"",
                  "4": {
                    "objectId": "ez�\b�����\u0011�\u0016"
                  },
                  "5": {
                    "string": "Anthony Christian"
                  },
                  "6": {
                    "int32": 84
                  }
                },
                {
                  "0": "HHQbALZHFpgFAAAAAAAAAA==",
                  "1": "1702529288",
                  "2": "NjU3YTg5MDlmZmMxYTJiZGE4MTFhYTE3",
                  "3": "\"0000fa03-0000-0300-0000-657a89080000\"",
                  "4": {
                    "objectId": "ez�\t�����\u0011�\u0017"
                  },
                  "5": {
                    "string": "Kevin Watson"
                  },
                  "6": {
                    "int32": 30
                  }
                },
                {
                  "0": "HHQbALZHFpgGAAAAAAAAAA==",
                  "1": "1702529289",
                  "2": "NjU3YTg5MDlmZmMxYTJiZGE4MTFhYTE4",
                  "3": "\"0000fb03-0000-0300-0000-657a89090000\"",
                  "4": {
                    "objectId": "ez�\t�����\u0011�\u0018"
                  },
                  "5": {
                    "string": "Lori Robinson"
                  },
                  "6": {
                    "int32": 20
                  }
                },
                {
                  "0": "HHQbALZHFpgHAAAAAAAAAA==",
                  "1": "1702529289",
                  "2": "NjU3YTg5MDlmZmMxYTJiZGE4MTFhYTE5",
                  "3": "\"0000fc03-0000-0300-0000-657a89090000\"",
                  "4": {
                    "objectId": "ez�\t�����\u0011�\u0019"
                  },
                  "5": {
                    "string": "Daniel Lee"
                  },
                  "6": {
                    "int32": 18
                  }
                },
                {
                  "0": "HHQbALZHFpgIAAAAAAAAAA==",
                  "1": "1702529289",
                  "2": "NjU3YTg5MDlmZmMxYTJiZGE4MTFhYTFh",
                  "3": "\"0000fd03-0000-0300-0000-657a89090000\"",
                  "4": {
                    "objectId": "ez�\t�����\u0011�\u001a"
                  },
                  "5": {
                    "string": "Victoria Barnes"
                  },
                  "6": {
                    "int32": 94
                  }
                },
                {
                  "0": "HHQbALZHFpgJAAAAAAAAAA==",
                  "1": "1702529289",
                  "2": "NjU3YTg5MDlmZmMxYTJiZGE4MTFhYTFi",
                  "3": "\"0000fe03-0000-0300-0000-657a89090000\"",
                  "4": {
                    "objectId": "ez�\t�����\u0011�\u001b"
                  },
                  "5": {
                    "string": "Marcus Irwin"
                  },
                  "6": {
                    "int32": 41
                  }
                },
                {
                  "0": "HHQbALZHFpgKAAAAAAAAAA==",
                  "1": "1702529289",
                  "2": "NjU3YTg5MDlmZmMxYTJiZGE4MTFhYTFj",
                  "3": "\"0000ff03-0000-0300-0000-657a89090000\"",
                  "4": {
                    "objectId": "ez�\t�����\u0011�\u001c"
                  },
                  "5": {
                    "string": "James Hunt"
                  },
                  "6": {
                    "int32": 10
                  }
                }
              ],
              "schema": [
                {
                  "key": "0",
                  "name": "_rid",
                  "type": "string"
                },
                {
                  "key": "1",
                  "name": "_ts",
                  "type": "bigint"
                },
                {
                  "key": "2",
                  "name": "id",
                  "type": "string"
                },
                {
                  "key": "3",
                  "name": "_etag",
                  "type": "string"
                },
                {
                  "key": "4",
                  "name": "_id",
                  "type": "StructType(StructField(objectId,StringType,true))"
                },
                {
                  "key": "5",
                  "name": "name",
                  "type": "StructType(StructField(string,StringType,true))"
                },
                {
                  "key": "6",
                  "name": "score",
                  "type": "StructType(StructField(int32,IntegerType,true))"
                }
              ],
              "truncated": false
            },
            "isSummary": false,
            "language": "scala"
          },
          "persist_state": {
            "view": {
              "type": "details",
              "tableOptions": {},
              "chartOptions": {
                "chartType": "bar",
                "aggregationType": "sum",
                "categoryFieldKeys": [
                  "0"
                ],
                "seriesFieldKeys": [
                  "1"
                ],
                "isStacked": false
              }
            }
          }
        },
        "9c66372b-9587-4133-9d74-0619890a5967": {
          "type": "Synapse.DataFrame",
          "sync_state": {
            "table": {
              "rows": [
                {
                  "0": "HHQbALZHFpgBAAAAAAAAAA==",
                  "1": "1702529288",
                  "2": "NjU3YTg5MDdmZmMxYTJiZGE4MTFhYTEz",
                  "3": "\"0000f603-0000-0300-0000-657a89080000\"",
                  "4": {
                    "objectId": "ez�\u0007�����\u0011�\u0013"
                  },
                  "5": {
                    "string": "Brad Huff"
                  },
                  "6": {
                    "int32": 70
                  }
                },
                {
                  "0": "HHQbALZHFpgCAAAAAAAAAA==",
                  "1": "1702529288",
                  "2": "NjU3YTg5MDhmZmMxYTJiZGE4MTFhYTE0",
                  "3": "\"0000f703-0000-0300-0000-657a89080000\"",
                  "4": {
                    "objectId": "ez�\b�����\u0011�\u0014"
                  },
                  "5": {
                    "string": "Robert Johnson"
                  },
                  "6": {
                    "int32": 40
                  }
                },
                {
                  "0": "HHQbALZHFpgDAAAAAAAAAA==",
                  "1": "1702529288",
                  "2": "NjU3YTg5MDhmZmMxYTJiZGE4MTFhYTE1",
                  "3": "\"0000f803-0000-0300-0000-657a89080000\"",
                  "4": {
                    "objectId": "ez�\b�����\u0011�\u0015"
                  },
                  "5": {
                    "string": "Kathryn Adams"
                  },
                  "6": {
                    "int32": 49
                  }
                },
                {
                  "0": "HHQbALZHFpgEAAAAAAAAAA==",
                  "1": "1702529288",
                  "2": "NjU3YTg5MDhmZmMxYTJiZGE4MTFhYTE2",
                  "3": "\"0000f903-0000-0300-0000-657a89080000\"",
                  "4": {
                    "objectId": "ez�\b�����\u0011�\u0016"
                  },
                  "5": {
                    "string": "Anthony Christian"
                  },
                  "6": {
                    "int32": 84
                  }
                },
                {
                  "0": "HHQbALZHFpgFAAAAAAAAAA==",
                  "1": "1702529288",
                  "2": "NjU3YTg5MDlmZmMxYTJiZGE4MTFhYTE3",
                  "3": "\"0000fa03-0000-0300-0000-657a89080000\"",
                  "4": {
                    "objectId": "ez�\t�����\u0011�\u0017"
                  },
                  "5": {
                    "string": "Kevin Watson"
                  },
                  "6": {
                    "int32": 30
                  }
                },
                {
                  "0": "HHQbALZHFpgGAAAAAAAAAA==",
                  "1": "1702529289",
                  "2": "NjU3YTg5MDlmZmMxYTJiZGE4MTFhYTE4",
                  "3": "\"0000fb03-0000-0300-0000-657a89090000\"",
                  "4": {
                    "objectId": "ez�\t�����\u0011�\u0018"
                  },
                  "5": {
                    "string": "Lori Robinson"
                  },
                  "6": {
                    "int32": 20
                  }
                },
                {
                  "0": "HHQbALZHFpgHAAAAAAAAAA==",
                  "1": "1702529289",
                  "2": "NjU3YTg5MDlmZmMxYTJiZGE4MTFhYTE5",
                  "3": "\"0000fc03-0000-0300-0000-657a89090000\"",
                  "4": {
                    "objectId": "ez�\t�����\u0011�\u0019"
                  },
                  "5": {
                    "string": "Daniel Lee"
                  },
                  "6": {
                    "int32": 18
                  }
                },
                {
                  "0": "HHQbALZHFpgIAAAAAAAAAA==",
                  "1": "1702529289",
                  "2": "NjU3YTg5MDlmZmMxYTJiZGE4MTFhYTFh",
                  "3": "\"0000fd03-0000-0300-0000-657a89090000\"",
                  "4": {
                    "objectId": "ez�\t�����\u0011�\u001a"
                  },
                  "5": {
                    "string": "Victoria Barnes"
                  },
                  "6": {
                    "int32": 94
                  }
                },
                {
                  "0": "HHQbALZHFpgJAAAAAAAAAA==",
                  "1": "1702529289",
                  "2": "NjU3YTg5MDlmZmMxYTJiZGE4MTFhYTFi",
                  "3": "\"0000fe03-0000-0300-0000-657a89090000\"",
                  "4": {
                    "objectId": "ez�\t�����\u0011�\u001b"
                  },
                  "5": {
                    "string": "Marcus Irwin"
                  },
                  "6": {
                    "int32": 41
                  }
                },
                {
                  "0": "HHQbALZHFpgKAAAAAAAAAA==",
                  "1": "1702529289",
                  "2": "NjU3YTg5MDlmZmMxYTJiZGE4MTFhYTFj",
                  "3": "\"0000ff03-0000-0300-0000-657a89090000\"",
                  "4": {
                    "objectId": "ez�\t�����\u0011�\u001c"
                  },
                  "5": {
                    "string": "James Hunt"
                  },
                  "6": {
                    "int32": 10
                  }
                }
              ],
              "schema": [
                {
                  "key": "0",
                  "name": "_rid",
                  "type": "string"
                },
                {
                  "key": "1",
                  "name": "_ts",
                  "type": "bigint"
                },
                {
                  "key": "2",
                  "name": "id",
                  "type": "string"
                },
                {
                  "key": "3",
                  "name": "_etag",
                  "type": "string"
                },
                {
                  "key": "4",
                  "name": "_id",
                  "type": "StructType(StructField(objectId,StringType,true))"
                },
                {
                  "key": "5",
                  "name": "name",
                  "type": "StructType(StructField(string,StringType,true))"
                },
                {
                  "key": "6",
                  "name": "score",
                  "type": "StructType(StructField(int32,IntegerType,true))"
                }
              ],
              "truncated": false
            },
            "isSummary": false,
            "language": "scala"
          },
          "persist_state": {
            "view": {
              "type": "details",
              "tableOptions": {},
              "chartOptions": {
                "chartType": "bar",
                "aggregationType": "sum",
                "categoryFieldKeys": [
                  "0"
                ],
                "seriesFieldKeys": [
                  "1"
                ],
                "isStacked": false
              }
            }
          }
        },
        "1df60a31-285c-4a0d-86a2-7a5a32722e8e": {
          "type": "Synapse.DataFrame",
          "sync_state": {
            "table": {
              "rows": [
                {
                  "0": "HHQbALZHFpgBAAAAAAAAAA==",
                  "1": "1702530785",
                  "2": "NjU3YTg5MDdmZmMxYTJiZGE4MTFhYTEz",
                  "3": "\"00000a04-0000-0300-0000-657a8ee10000\"",
                  "4": {
                    "objectId": "ez�\u0007�����\u0011�\u0013"
                  },
                  "5": {
                    "string": "Brad Huff"
                  },
                  "6": {
                    "int32": 38
                  }
                },
                {
                  "0": "HHQbALZHFpgCAAAAAAAAAA==",
                  "1": "1702530785",
                  "2": "NjU3YTg5MDhmZmMxYTJiZGE4MTFhYTE0",
                  "3": "\"00000b04-0000-0300-0000-657a8ee10000\"",
                  "4": {
                    "objectId": "ez�\b�����\u0011�\u0014"
                  },
                  "5": {
                    "string": "Robert Johnson"
                  },
                  "6": {
                    "int32": 14
                  }
                },
                {
                  "0": "HHQbALZHFpgDAAAAAAAAAA==",
                  "1": "1702530785",
                  "2": "NjU3YTg5MDhmZmMxYTJiZGE4MTFhYTE1",
                  "3": "\"00000c04-0000-0300-0000-657a8ee10000\"",
                  "4": {
                    "objectId": "ez�\b�����\u0011�\u0015"
                  },
                  "5": {
                    "string": "Kathryn Adams"
                  },
                  "6": {
                    "int32": 21
                  }
                },
                {
                  "0": "HHQbALZHFpgEAAAAAAAAAA==",
                  "1": "1702530785",
                  "2": "NjU3YTg5MDhmZmMxYTJiZGE4MTFhYTE2",
                  "3": "\"00000d04-0000-0300-0000-657a8ee10000\"",
                  "4": {
                    "objectId": "ez�\b�����\u0011�\u0016"
                  },
                  "5": {
                    "string": "Anthony Christian"
                  },
                  "6": {
                    "int32": 44
                  }
                },
                {
                  "0": "HHQbALZHFpgFAAAAAAAAAA==",
                  "1": "1702530785",
                  "2": "NjU3YTg5MDlmZmMxYTJiZGE4MTFhYTE3",
                  "3": "\"00000e04-0000-0300-0000-657a8ee10000\"",
                  "4": {
                    "objectId": "ez�\t�����\u0011�\u0017"
                  },
                  "5": {
                    "string": "Kevin Watson"
                  },
                  "6": {
                    "int32": 83
                  }
                },
                {
                  "0": "HHQbALZHFpgGAAAAAAAAAA==",
                  "1": "1702529289",
                  "2": "NjU3YTg5MDlmZmMxYTJiZGE4MTFhYTE4",
                  "3": "\"0000fb03-0000-0300-0000-657a89090000\"",
                  "4": {
                    "objectId": "ez�\t�����\u0011�\u0018"
                  },
                  "5": {
                    "string": "Lori Robinson"
                  },
                  "6": {
                    "int32": 20
                  }
                },
                {
                  "0": "HHQbALZHFpgHAAAAAAAAAA==",
                  "1": "1702529289",
                  "2": "NjU3YTg5MDlmZmMxYTJiZGE4MTFhYTE5",
                  "3": "\"0000fc03-0000-0300-0000-657a89090000\"",
                  "4": {
                    "objectId": "ez�\t�����\u0011�\u0019"
                  },
                  "5": {
                    "string": "Daniel Lee"
                  },
                  "6": {
                    "int32": 18
                  }
                },
                {
                  "0": "HHQbALZHFpgIAAAAAAAAAA==",
                  "1": "1702529289",
                  "2": "NjU3YTg5MDlmZmMxYTJiZGE4MTFhYTFh",
                  "3": "\"0000fd03-0000-0300-0000-657a89090000\"",
                  "4": {
                    "objectId": "ez�\t�����\u0011�\u001a"
                  },
                  "5": {
                    "string": "Victoria Barnes"
                  },
                  "6": {
                    "int32": 94
                  }
                },
                {
                  "0": "HHQbALZHFpgJAAAAAAAAAA==",
                  "1": "1702529289",
                  "2": "NjU3YTg5MDlmZmMxYTJiZGE4MTFhYTFi",
                  "3": "\"0000fe03-0000-0300-0000-657a89090000\"",
                  "4": {
                    "objectId": "ez�\t�����\u0011�\u001b"
                  },
                  "5": {
                    "string": "Marcus Irwin"
                  },
                  "6": {
                    "int32": 41
                  }
                },
                {
                  "0": "HHQbALZHFpgKAAAAAAAAAA==",
                  "1": "1702529289",
                  "2": "NjU3YTg5MDlmZmMxYTJiZGE4MTFhYTFj",
                  "3": "\"0000ff03-0000-0300-0000-657a89090000\"",
                  "4": {
                    "objectId": "ez�\t�����\u0011�\u001c"
                  },
                  "5": {
                    "string": "James Hunt"
                  },
                  "6": {
                    "int32": 10
                  }
                }
              ],
              "schema": [
                {
                  "key": "0",
                  "name": "_rid",
                  "type": "string"
                },
                {
                  "key": "1",
                  "name": "_ts",
                  "type": "bigint"
                },
                {
                  "key": "2",
                  "name": "id",
                  "type": "string"
                },
                {
                  "key": "3",
                  "name": "_etag",
                  "type": "string"
                },
                {
                  "key": "4",
                  "name": "_id",
                  "type": "StructType(StructField(objectId,StringType,true))"
                },
                {
                  "key": "5",
                  "name": "name",
                  "type": "StructType(StructField(string,StringType,true))"
                },
                {
                  "key": "6",
                  "name": "score",
                  "type": "StructType(StructField(int32,IntegerType,true))"
                }
              ],
              "truncated": false
            },
            "isSummary": false,
            "language": "scala"
          },
          "persist_state": {
            "view": {
              "type": "details",
              "tableOptions": {},
              "chartOptions": {
                "chartType": "bar",
                "aggregationType": "sum",
                "categoryFieldKeys": [
                  "0"
                ],
                "seriesFieldKeys": [
                  "1"
                ],
                "isStacked": false
              }
            }
          }
        },
        "3ba73443-d61e-4dc3-aabf-578b161ba5f8": {
          "type": "Synapse.DataFrame",
          "sync_state": {
            "table": {
              "rows": [
                {
                  "0": "HHQbALZHFpgBAAAAAAAAAA==",
                  "1": "1702529288",
                  "2": "NjU3YTg5MDdmZmMxYTJiZGE4MTFhYTEz",
                  "3": "\"0000f603-0000-0300-0000-657a89080000\"",
                  "4": {
                    "objectId": "ez�\u0007�����\u0011�\u0013"
                  },
                  "5": {
                    "string": "Brad Huff"
                  },
                  "6": {
                    "int32": 70
                  }
                },
                {
                  "0": "HHQbALZHFpgCAAAAAAAAAA==",
                  "1": "1702529288",
                  "2": "NjU3YTg5MDhmZmMxYTJiZGE4MTFhYTE0",
                  "3": "\"0000f703-0000-0300-0000-657a89080000\"",
                  "4": {
                    "objectId": "ez�\b�����\u0011�\u0014"
                  },
                  "5": {
                    "string": "Robert Johnson"
                  },
                  "6": {
                    "int32": 40
                  }
                },
                {
                  "0": "HHQbALZHFpgDAAAAAAAAAA==",
                  "1": "1702529288",
                  "2": "NjU3YTg5MDhmZmMxYTJiZGE4MTFhYTE1",
                  "3": "\"0000f803-0000-0300-0000-657a89080000\"",
                  "4": {
                    "objectId": "ez�\b�����\u0011�\u0015"
                  },
                  "5": {
                    "string": "Kathryn Adams"
                  },
                  "6": {
                    "int32": 49
                  }
                },
                {
                  "0": "HHQbALZHFpgEAAAAAAAAAA==",
                  "1": "1702529288",
                  "2": "NjU3YTg5MDhmZmMxYTJiZGE4MTFhYTE2",
                  "3": "\"0000f903-0000-0300-0000-657a89080000\"",
                  "4": {
                    "objectId": "ez�\b�����\u0011�\u0016"
                  },
                  "5": {
                    "string": "Anthony Christian"
                  },
                  "6": {
                    "int32": 84
                  }
                },
                {
                  "0": "HHQbALZHFpgFAAAAAAAAAA==",
                  "1": "1702529288",
                  "2": "NjU3YTg5MDlmZmMxYTJiZGE4MTFhYTE3",
                  "3": "\"0000fa03-0000-0300-0000-657a89080000\"",
                  "4": {
                    "objectId": "ez�\t�����\u0011�\u0017"
                  },
                  "5": {
                    "string": "Kevin Watson"
                  },
                  "6": {
                    "int32": 30
                  }
                }
              ],
              "schema": [
                {
                  "key": "0",
                  "name": "_rid",
                  "type": "string"
                },
                {
                  "key": "1",
                  "name": "_ts",
                  "type": "bigint"
                },
                {
                  "key": "2",
                  "name": "id",
                  "type": "string"
                },
                {
                  "key": "3",
                  "name": "_etag",
                  "type": "string"
                },
                {
                  "key": "4",
                  "name": "_id",
                  "type": "StructType(StructField(objectId,StringType,true))"
                },
                {
                  "key": "5",
                  "name": "name",
                  "type": "StructType(StructField(string,StringType,true))"
                },
                {
                  "key": "6",
                  "name": "score",
                  "type": "StructType(StructField(int32,IntegerType,true))"
                }
              ],
              "truncated": false
            },
            "isSummary": false,
            "language": "scala"
          },
          "persist_state": {
            "view": {
              "type": "details",
              "tableOptions": {},
              "chartOptions": {
                "chartType": "bar",
                "aggregationType": "sum",
                "categoryFieldKeys": [
                  "0"
                ],
                "seriesFieldKeys": [
                  "1"
                ],
                "isStacked": false
              }
            }
          }
        },
        "2300c530-9c5f-4604-b307-03481d6c3575": {
          "type": "Synapse.DataFrame",
          "sync_state": {
            "table": {
              "rows": [
                {
                  "0": "HHQbALZHFpgBAAAAAAAAAA==",
                  "1": "1702529288",
                  "2": "NjU3YTg5MDdmZmMxYTJiZGE4MTFhYTEz",
                  "3": "\"0000f603-0000-0300-0000-657a89080000\"",
                  "4": {
                    "objectId": "ez�\u0007�����\u0011�\u0013"
                  },
                  "5": {
                    "string": "Brad Huff"
                  },
                  "6": {
                    "int32": 70
                  },
                  "7": "HHQbALZHFpgBAAAAAAAAAA==",
                  "8": "1702530785",
                  "9": "NjU3YTg5MDdmZmMxYTJiZGE4MTFhYTEz",
                  "10": "\"00000a04-0000-0300-0000-657a8ee10000\"",
                  "11": {
                    "objectId": "ez�\u0007�����\u0011�\u0013"
                  },
                  "12": {
                    "string": "Brad Huff"
                  },
                  "13": {
                    "int32": 38
                  }
                },
                {
                  "0": "HHQbALZHFpgCAAAAAAAAAA==",
                  "1": "1702529288",
                  "2": "NjU3YTg5MDhmZmMxYTJiZGE4MTFhYTE0",
                  "3": "\"0000f703-0000-0300-0000-657a89080000\"",
                  "4": {
                    "objectId": "ez�\b�����\u0011�\u0014"
                  },
                  "5": {
                    "string": "Robert Johnson"
                  },
                  "6": {
                    "int32": 40
                  },
                  "7": "HHQbALZHFpgCAAAAAAAAAA==",
                  "8": "1702530785",
                  "9": "NjU3YTg5MDhmZmMxYTJiZGE4MTFhYTE0",
                  "10": "\"00000b04-0000-0300-0000-657a8ee10000\"",
                  "11": {
                    "objectId": "ez�\b�����\u0011�\u0014"
                  },
                  "12": {
                    "string": "Robert Johnson"
                  },
                  "13": {
                    "int32": 14
                  }
                },
                {
                  "0": "HHQbALZHFpgDAAAAAAAAAA==",
                  "1": "1702529288",
                  "2": "NjU3YTg5MDhmZmMxYTJiZGE4MTFhYTE1",
                  "3": "\"0000f803-0000-0300-0000-657a89080000\"",
                  "4": {
                    "objectId": "ez�\b�����\u0011�\u0015"
                  },
                  "5": {
                    "string": "Kathryn Adams"
                  },
                  "6": {
                    "int32": 49
                  },
                  "7": "HHQbALZHFpgDAAAAAAAAAA==",
                  "8": "1702530785",
                  "9": "NjU3YTg5MDhmZmMxYTJiZGE4MTFhYTE1",
                  "10": "\"00000c04-0000-0300-0000-657a8ee10000\"",
                  "11": {
                    "objectId": "ez�\b�����\u0011�\u0015"
                  },
                  "12": {
                    "string": "Kathryn Adams"
                  },
                  "13": {
                    "int32": 21
                  }
                },
                {
                  "0": "HHQbALZHFpgEAAAAAAAAAA==",
                  "1": "1702529288",
                  "2": "NjU3YTg5MDhmZmMxYTJiZGE4MTFhYTE2",
                  "3": "\"0000f903-0000-0300-0000-657a89080000\"",
                  "4": {
                    "objectId": "ez�\b�����\u0011�\u0016"
                  },
                  "5": {
                    "string": "Anthony Christian"
                  },
                  "6": {
                    "int32": 84
                  },
                  "7": "HHQbALZHFpgEAAAAAAAAAA==",
                  "8": "1702530785",
                  "9": "NjU3YTg5MDhmZmMxYTJiZGE4MTFhYTE2",
                  "10": "\"00000d04-0000-0300-0000-657a8ee10000\"",
                  "11": {
                    "objectId": "ez�\b�����\u0011�\u0016"
                  },
                  "12": {
                    "string": "Anthony Christian"
                  },
                  "13": {
                    "int32": 44
                  }
                },
                {
                  "0": "HHQbALZHFpgFAAAAAAAAAA==",
                  "1": "1702529288",
                  "2": "NjU3YTg5MDlmZmMxYTJiZGE4MTFhYTE3",
                  "3": "\"0000fa03-0000-0300-0000-657a89080000\"",
                  "4": {
                    "objectId": "ez�\t�����\u0011�\u0017"
                  },
                  "5": {
                    "string": "Kevin Watson"
                  },
                  "6": {
                    "int32": 30
                  },
                  "7": "HHQbALZHFpgFAAAAAAAAAA==",
                  "8": "1702530785",
                  "9": "NjU3YTg5MDlmZmMxYTJiZGE4MTFhYTE3",
                  "10": "\"00000e04-0000-0300-0000-657a8ee10000\"",
                  "11": {
                    "objectId": "ez�\t�����\u0011�\u0017"
                  },
                  "12": {
                    "string": "Kevin Watson"
                  },
                  "13": {
                    "int32": 83
                  }
                }
              ],
              "schema": [
                {
                  "key": "0",
                  "name": "_rid",
                  "type": "string"
                },
                {
                  "key": "1",
                  "name": "_ts",
                  "type": "bigint"
                },
                {
                  "key": "2",
                  "name": "id",
                  "type": "string"
                },
                {
                  "key": "3",
                  "name": "_etag",
                  "type": "string"
                },
                {
                  "key": "4",
                  "name": "_id",
                  "type": "StructType(StructField(objectId,StringType,true))"
                },
                {
                  "key": "5",
                  "name": "name",
                  "type": "StructType(StructField(string,StringType,true))"
                },
                {
                  "key": "6",
                  "name": "score",
                  "type": "StructType(StructField(int32,IntegerType,true))"
                },
                {
                  "key": "7",
                  "name": "_rid",
                  "type": "string"
                },
                {
                  "key": "8",
                  "name": "_ts",
                  "type": "bigint"
                },
                {
                  "key": "9",
                  "name": "id",
                  "type": "string"
                },
                {
                  "key": "10",
                  "name": "_etag",
                  "type": "string"
                },
                {
                  "key": "11",
                  "name": "_id",
                  "type": "StructType(StructField(objectId,StringType,true))"
                },
                {
                  "key": "12",
                  "name": "name",
                  "type": "StructType(StructField(string,StringType,true))"
                },
                {
                  "key": "13",
                  "name": "score",
                  "type": "StructType(StructField(int32,IntegerType,true))"
                }
              ],
              "truncated": false
            },
            "isSummary": false,
            "language": "scala"
          },
          "persist_state": {
            "view": {
              "type": "details",
              "tableOptions": {},
              "chartOptions": {
                "chartType": "bar",
                "aggregationType": "sum",
                "categoryFieldKeys": [
                  "0"
                ],
                "seriesFieldKeys": [
                  "1"
                ],
                "isStacked": false
              }
            }
          }
        }
      }
    }
  },
  "cells": [
    {
      "cell_type": "code",
      "execution_count": 1,
      "outputs": [
        {
          "output_type": "display_data",
          "data": {
            "application/vnd.livy.statement-meta+json": {
              "spark_pool": "testspark",
              "session_id": "22",
              "statement_id": 2,
              "state": "finished",
              "livy_statement_state": "available",
              "queued_time": "2023-12-14T04:49:57.0730499Z",
              "session_start_time": "2023-12-14T04:49:57.1362177Z",
              "execution_start_time": "2023-12-14T04:52:57.2219785Z",
              "execution_finish_time": "2023-12-14T04:53:33.3228239Z",
              "spark_jobs": null,
              "parent_msg_id": "4854795f-6d17-476b-9d14-027cdec6321f"
            },
            "text/plain": "StatementMeta(testspark, 22, 2, Finished, Available)"
          },
          "metadata": {}
        },
        {
          "output_type": "display_data",
          "data": {
            "application/vnd.synapse.widget-view+json": {
              "widget_id": "90d8a14a-191b-4f4c-b1af-4e44ecc53078",
              "widget_type": "Synapse.DataFrame"
            },
            "text/plain": "SynapseWidget(Synapse.DataFrame, 90d8a14a-191b-4f4c-b1af-4e44ecc53078)"
          },
          "metadata": {}
        }
      ],
      "metadata": {
        "collapsed": false
      },
      "source": [
        "# Read from Cosmos DB analytical store into a Spark DataFrame and display 10 rows from the DataFrame\n",
        "# To select a preferred list of regions in a multi-region Cosmos DB account, add .option(\"spark.cosmos.preferredRegions\", \"<Region1>,<Region2>\")\n",
        "\n",
        "df = spark.read\\\n",
        "    .format(\"cosmos.olap\")\\\n",
        "    .option(\"spark.synapse.linkedService\", \"prdb\")\\\n",
        "    .option(\"spark.cosmos.container\", \"prcol\")\\\n",
        "    .load()\n",
        "\n",
        "display(df.limit(10))"
      ]
    },
    {
      "cell_type": "code",
      "execution_count": 4,
      "outputs": [
        {
          "output_type": "display_data",
          "data": {
            "application/vnd.livy.statement-meta+json": {
              "spark_pool": "testspark",
              "session_id": "22",
              "statement_id": 5,
              "state": "finished",
              "livy_statement_state": "available",
              "queued_time": "2023-12-14T05:16:11.3047397Z",
              "session_start_time": null,
              "execution_start_time": "2023-12-14T05:16:11.4507841Z",
              "execution_finish_time": "2023-12-14T05:16:18.558614Z",
              "spark_jobs": null,
              "parent_msg_id": "16415f88-5178-44c1-b7da-82764cdb8212"
            },
            "text/plain": "StatementMeta(testspark, 22, 5, Finished, Available)"
          },
          "metadata": {}
        },
        {
          "output_type": "stream",
          "name": "stderr",
          "text": [
            "/opt/spark/python/lib/pyspark.zip/pyspark/sql/context.py:112: FutureWarning: Deprecated in 3.0.0. Use SparkSession.builder.getOrCreate() instead.\n/opt/spark/python/lib/pyspark.zip/pyspark/sql/dataframe.py:127: UserWarning: DataFrame constructor is internal. Do not directly use it.\n"
          ]
        },
        {
          "output_type": "display_data",
          "data": {
            "application/vnd.synapse.widget-view+json": {
              "widget_id": "9c66372b-9587-4133-9d74-0619890a5967",
              "widget_type": "Synapse.DataFrame"
            },
            "text/plain": "SynapseWidget(Synapse.DataFrame, 9c66372b-9587-4133-9d74-0619890a5967)"
          },
          "metadata": {}
        }
      ],
      "metadata": {
        "jupyter": {
          "source_hidden": false,
          "outputs_hidden": false
        },
        "nteract": {
          "transient": {
            "deleting": false
          }
        },
        "collapsed": false
      },
      "source": [
        "from pyspark.sql import DataFrame, SQLContext\r\n",
        "sqlCtx = SQLContext(sc)\r\n",
        "\r\n",
        "configuration = {\r\n",
        "  \"spark.synapse.linkedService\": \"prdb\",\r\n",
        "  \"spark.cosmos.container\": \"prcol\",\r\n",
        "  \"spark.cosmos.timetravel.timestampAsOf\": \"2023-12-14 05:00:00\"\r\n",
        "  }\r\n",
        "                                                                                           \r\n",
        "cosmosOlapTimeTravel = sc._jvm.com.microsoft.azure.cosmos.analytics.spark.connector.datasource.CosmosOlapTimeTravel\r\n",
        "old_df = DataFrame(cosmosOlapTimeTravel.load(configuration), sqlCtx)\r\n",
        "display(old_df)"
      ]
    },
    {
      "cell_type": "code",
      "execution_count": 5,
      "outputs": [
        {
          "output_type": "display_data",
          "data": {
            "application/vnd.livy.statement-meta+json": {
              "spark_pool": "testspark",
              "session_id": "22",
              "statement_id": 6,
              "state": "finished",
              "livy_statement_state": "available",
              "queued_time": "2023-12-14T05:16:51.4613865Z",
              "session_start_time": null,
              "execution_start_time": "2023-12-14T05:16:51.6144911Z",
              "execution_finish_time": "2023-12-14T05:16:58.7264293Z",
              "spark_jobs": null,
              "parent_msg_id": "27864f36-07df-41ad-a289-6cfa8f4d1ef5"
            },
            "text/plain": "StatementMeta(testspark, 22, 6, Finished, Available)"
          },
          "metadata": {}
        },
        {
          "output_type": "display_data",
          "data": {
            "application/vnd.synapse.widget-view+json": {
              "widget_id": "1df60a31-285c-4a0d-86a2-7a5a32722e8e",
              "widget_type": "Synapse.DataFrame"
            },
            "text/plain": "SynapseWidget(Synapse.DataFrame, 1df60a31-285c-4a0d-86a2-7a5a32722e8e)"
          },
          "metadata": {}
        }
      ],
      "metadata": {
        "jupyter": {
          "source_hidden": false,
          "outputs_hidden": false
        },
        "nteract": {
          "transient": {
            "deleting": false
          }
        },
        "collapsed": false
      },
      "source": [
        "current_df = spark.read\\\r\n",
        "    .format(\"cosmos.olap\")\\\r\n",
        "    .option(\"spark.synapse.linkedService\", \"prdb\")\\\r\n",
        "    .option(\"spark.cosmos.container\", \"prcol\")\\\r\n",
        "    .load()\r\n",
        "\r\n",
        "display(current_df)"
      ]
    },
    {
      "cell_type": "code",
      "execution_count": 7,
      "outputs": [
        {
          "output_type": "display_data",
          "data": {
            "application/vnd.livy.statement-meta+json": {
              "spark_pool": "testspark",
              "session_id": "22",
              "statement_id": 8,
              "state": "finished",
              "livy_statement_state": "available",
              "queued_time": "2023-12-14T05:18:07.1813112Z",
              "session_start_time": null,
              "execution_start_time": "2023-12-14T05:18:07.3181692Z",
              "execution_finish_time": "2023-12-14T05:18:18.1857039Z",
              "spark_jobs": null,
              "parent_msg_id": "48f4551f-f3f9-464d-b2f4-581448631484"
            },
            "text/plain": "StatementMeta(testspark, 22, 8, Finished, Available)"
          },
          "metadata": {}
        },
        {
          "output_type": "display_data",
          "data": {
            "application/vnd.synapse.widget-view+json": {
              "widget_id": "3ba73443-d61e-4dc3-aabf-578b161ba5f8",
              "widget_type": "Synapse.DataFrame"
            },
            "text/plain": "SynapseWidget(Synapse.DataFrame, 3ba73443-d61e-4dc3-aabf-578b161ba5f8)"
          },
          "metadata": {}
        }
      ],
      "metadata": {
        "jupyter": {
          "source_hidden": false,
          "outputs_hidden": false
        },
        "nteract": {
          "transient": {
            "deleting": false
          }
        },
        "collapsed": false
      },
      "source": [
        "changed_records = old_df.exceptAll(current_df)\r\n",
        "display(changed_records)"
      ]
    },
    {
      "cell_type": "code",
      "execution_count": 11,
      "outputs": [
        {
          "output_type": "display_data",
          "data": {
            "application/vnd.livy.statement-meta+json": {
              "spark_pool": "testspark",
              "session_id": "22",
              "statement_id": 13,
              "state": "finished",
              "livy_statement_state": "available",
              "queued_time": "2023-12-14T05:25:30.6367479Z",
              "session_start_time": null,
              "execution_start_time": "2023-12-14T05:25:45.0899803Z",
              "execution_finish_time": "2023-12-14T05:25:48.564371Z",
              "spark_jobs": null,
              "parent_msg_id": "0c526366-5bfd-4a03-8d8c-5c4f8b2bd01c"
            },
            "text/plain": "StatementMeta(testspark, 22, 13, Finished, Available)"
          },
          "metadata": {}
        },
        {
          "output_type": "display_data",
          "data": {
            "application/vnd.synapse.widget-view+json": {
              "widget_id": "2300c530-9c5f-4604-b307-03481d6c3575",
              "widget_type": "Synapse.DataFrame"
            },
            "text/plain": "SynapseWidget(Synapse.DataFrame, 2300c530-9c5f-4604-b307-03481d6c3575)"
          },
          "metadata": {}
        }
      ],
      "metadata": {
        "jupyter": {
          "source_hidden": false,
          "outputs_hidden": false
        },
        "nteract": {
          "transient": {
            "deleting": false
          }
        },
        "collapsed": false
      },
      "source": [
        "from pyspark.sql import functions as F\r\n",
        "\r\n",
        "\r\n",
        "# Perform an inner join on the unique identifier\r\n",
        "joined_df = old_df.alias('a').join(current_df.alias('b'), F.col('a.id') == F.col('b.id'))\r\n",
        "\r\n",
        "changed_records = None\r\n",
        "\r\n",
        "# Loop through each column\r\n",
        "for column in [\"name\", \"score\"]:\r\n",
        "    # Filter for rows where the column value in df1 is not equal to the column value in df2\r\n",
        "    changed_in_column = joined_df.filter(F.col('a.' + column) != F.col('b.' + column))\r\n",
        "    \r\n",
        "    # Union all the results\r\n",
        "    if changed_records is None:\r\n",
        "        changed_records = changed_in_column\r\n",
        "    else:\r\n",
        "        changed_records = changed_records.union(changed_in_column)\r\n",
        "\r\n",
        "# Show the changed records\r\n",
        "display(changed_records)"
      ]
    },
    {
      "cell_type": "code",
      "execution_count": null,
      "outputs": [],
      "metadata": {
        "jupyter": {
          "source_hidden": false,
          "outputs_hidden": false
        },
        "nteract": {
          "transient": {
            "deleting": false
          }
        }
      },
      "source": [
        "# Find the records present in df1 but not in df2\r\n",
        "missing_records = df1.subtract(df2)\r\n",
        "missing_records.show()\r\n",
        ""
      ]
    }
  ]
}